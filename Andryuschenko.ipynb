{
  "cells": [
    {
      "cell_type": "code",
      "execution_count": 1,
      "metadata": {
        "colab": {
          "base_uri": "https://localhost:8080/",
          "height": 728
        },
        "collapsed": true,
        "id": "R5b9eze827ed",
        "outputId": "e7fb9c11-62ae-402e-c200-140a955f2b21"
      },
      "outputs": [
        {
          "name": "stderr",
          "output_type": "stream",
          "text": [
            "[nltk_data] Downloading package stopwords to /home/zhenya/nltk_data...\n",
            "[nltk_data]   Package stopwords is already up-to-date!\n"
          ]
        },
        {
          "data": {
            "text/html": [
              "<div>\n",
              "<style scoped>\n",
              "    .dataframe tbody tr th:only-of-type {\n",
              "        vertical-align: middle;\n",
              "    }\n",
              "\n",
              "    .dataframe tbody tr th {\n",
              "        vertical-align: top;\n",
              "    }\n",
              "\n",
              "    .dataframe thead th {\n",
              "        text-align: right;\n",
              "    }\n",
              "</style>\n",
              "<table border=\"1\" class=\"dataframe\">\n",
              "  <thead>\n",
              "    <tr style=\"text-align: right;\">\n",
              "      <th></th>\n",
              "      <th>prompt</th>\n",
              "      <th>canonical_solution</th>\n",
              "      <th>model_response</th>\n",
              "      <th>target</th>\n",
              "    </tr>\n",
              "  </thead>\n",
              "  <tbody>\n",
              "    <tr>\n",
              "      <th>0</th>\n",
              "      <td>&lt;file_sep&gt;&lt;fim_prefix&gt;// Copyright 2020 The Go...</td>\n",
              "      <td>\\t\\tswitch x.Interface().(type) {</td>\n",
              "      <td>\\t\\t// False sorts before true.</td>\n",
              "      <td>False</td>\n",
              "    </tr>\n",
              "    <tr>\n",
              "      <th>1</th>\n",
              "      <td>&lt;file_sep&gt;&lt;fim_prefix&gt;import re\\nimport uuid\\n...</td>\n",
              "      <td>st.markdown(\"---\")</td>\n",
              "      <td>if st.session_state[\"mdl_json\"]:</td>\n",
              "      <td>False</td>\n",
              "    </tr>\n",
              "    <tr>\n",
              "      <th>2</th>\n",
              "      <td>&lt;file_sep&gt;&lt;fim_prefix&gt;package tlsrpt\\nimport (...</td>\n",
              "      <td>func (p *parser) wsp() {</td>\n",
              "      <td>//../rfc/8460:374</td>\n",
              "      <td>False</td>\n",
              "    </tr>\n",
              "    <tr>\n",
              "      <th>3</th>\n",
              "      <td>&lt;file_sep&gt;&lt;fim_prefix&gt;import { describe, expec...</td>\n",
              "      <td>expect(() =&gt; (rect = new class_test.Rect()...</td>\n",
              "      <td>expect(() =&gt; (rect = new class_test.Rectan...</td>\n",
              "      <td>False</td>\n",
              "    </tr>\n",
              "    <tr>\n",
              "      <th>4</th>\n",
              "      <td>&lt;file_sep&gt;&lt;fim_prefix&gt;import type {\\n  Default...</td>\n",
              "      <td>* Include or exclude stale queries</td>\n",
              "      <td>* Include queries matching this mutation key</td>\n",
              "      <td>False</td>\n",
              "    </tr>\n",
              "    <tr>\n",
              "      <th>5</th>\n",
              "      <td>&lt;file_sep&gt;&lt;fim_prefix&gt;import { TreeGraphData }...</td>\n",
              "      <td>dimensions: ISemantic.IDimensionList;</td>\n",
              "      <td>defaultMetricId: number;</td>\n",
              "      <td>False</td>\n",
              "    </tr>\n",
              "    <tr>\n",
              "      <th>6</th>\n",
              "      <td>&lt;file_sep&gt;&lt;fim_prefix&gt;#include \"tachyon/c/zk/p...</td>\n",
              "      <td>tachyon_halo2_bn254_gwc_verifier* verifier,</td>\n",
              "      <td>tachyon_halo2_bn254_gwc_verifier* verifier,</td>\n",
              "      <td>True</td>\n",
              "    </tr>\n",
              "    <tr>\n",
              "      <th>7</th>\n",
              "      <td>&lt;file_sep&gt;&lt;fim_prefix&gt;package prisma\\nimport (...</td>\n",
              "      <td>\\terr = r.queries.CleanupStreamEvents(ctx, r.p...</td>\n",
              "      <td>\\t_, err = r.queries.CleanupStreamEvents(ctx, tx)</td>\n",
              "      <td>False</td>\n",
              "    </tr>\n",
              "    <tr>\n",
              "      <th>8</th>\n",
              "      <td>&lt;file_sep&gt;&lt;fim_prefix&gt;// Copyright 2019 The Go...</td>\n",
              "      <td>// on the current extension field.</td>\n",
              "      <td>// on the extension field being iterated over.</td>\n",
              "      <td>False</td>\n",
              "    </tr>\n",
              "    <tr>\n",
              "      <th>9</th>\n",
              "      <td>&lt;file_sep&gt;&lt;fim_prefix&gt;// Copyright 2020 The Go...</td>\n",
              "      <td>\\tEntryRanger interface{ Range(VisitEntry) }</td>\n",
              "      <td>\\tEntryRanger interface{ Range(VisitEntry) }</td>\n",
              "      <td>True</td>\n",
              "    </tr>\n",
              "    <tr>\n",
              "      <th>10</th>\n",
              "      <td>&lt;file_sep&gt;&lt;fim_prefix&gt;import * as React from'r...</td>\n",
              "      <td>&lt;TableRow className=\"p-4 text-center...</td>\n",
              "      <td>&lt;TableRow&gt;</td>\n",
              "      <td>False</td>\n",
              "    </tr>\n",
              "    <tr>\n",
              "      <th>11</th>\n",
              "      <td>&lt;file_sep&gt;&lt;fim_prefix&gt;import type { urlModel }...</td>\n",
              "      <td>\\tfield: string;</td>\n",
              "      <td>\\tfield: string;</td>\n",
              "      <td>True</td>\n",
              "    </tr>\n",
              "    <tr>\n",
              "      <th>12</th>\n",
              "      <td>&lt;file_sep&gt;&lt;fim_prefix&gt;#include \"tachyon/math/e...</td>\n",
              "      <td>G1AffinePoint g1s[] = {(a * g1).ToAffine()};</td>\n",
              "      <td>G1AffinePoint g1s[] = {g1, g1};</td>\n",
              "      <td>False</td>\n",
              "    </tr>\n",
              "    <tr>\n",
              "      <th>13</th>\n",
              "      <td>&lt;file_sep&gt;&lt;fim_prefix&gt;.Default()\\n\\t\\t},\\n\\t\\t...</td>\n",
              "      <td>\\toi := &amp;oneofInfo{oneofDesc: od}</td>\n",
              "      <td>\\tif od.FullName() == \"\" {</td>\n",
              "      <td>False</td>\n",
              "    </tr>\n",
              "    <tr>\n",
              "      <th>14</th>\n",
              "      <td>&lt;file_sep&gt;&lt;fim_prefix&gt;import { Tag, Space, Too...</td>\n",
              "      <td>return &lt;&gt;&lt;/&gt;;</td>\n",
              "      <td>return null;</td>\n",
              "      <td>False</td>\n",
              "    </tr>\n",
              "    <tr>\n",
              "      <th>15</th>\n",
              "      <td>&lt;file_sep&gt;&lt;fim_prefix&gt;package com.tencent.supe...</td>\n",
              "      <td>//selectExpressionItem.getExpression()...</td>\n",
              "      <td>}</td>\n",
              "      <td>False</td>\n",
              "    </tr>\n",
              "    <tr>\n",
              "      <th>16</th>\n",
              "      <td>&lt;file_sep&gt;&lt;fim_prefix&gt;import logging\\nimport o...</td>\n",
              "      <td>logger.warning(</td>\n",
              "      <td>logger.warning(</td>\n",
              "      <td>True</td>\n",
              "    </tr>\n",
              "    <tr>\n",
              "      <th>17</th>\n",
              "      <td>&lt;file_sep&gt;&lt;fim_prefix&gt;import pytest\\nfrom rest...</td>\n",
              "      <td>\"residual_proba\": RISK_SCENARI...</td>\n",
              "      <td>\"residual_proba\": RISK_SCENARI...</td>\n",
              "      <td>True</td>\n",
              "    </tr>\n",
              "    <tr>\n",
              "      <th>18</th>\n",
              "      <td>&lt;file_sep&gt;&lt;fim_prefix&gt;import { gql } from '@ap...</td>\n",
              "      <td>summary?: InputMaybe&lt;Scalars['String']&gt;;</td>\n",
              "      <td>summary?: InputMaybe&lt;Scalars['String']&gt;;</td>\n",
              "      <td>True</td>\n",
              "    </tr>\n",
              "    <tr>\n",
              "      <th>19</th>\n",
              "      <td>&lt;file_sep&gt;&lt;fim_prefix&gt;import { RuleTester } fr...</td>\n",
              "      <td>const queryClient = new QueryClient();</td>\n",
              "      <td>const queryClient = new QueryClient();</td>\n",
              "      <td>True</td>\n",
              "    </tr>\n",
              "  </tbody>\n",
              "</table>\n",
              "</div>"
            ],
            "text/plain": [
              "                                               prompt  \\\n",
              "0   <file_sep><fim_prefix>// Copyright 2020 The Go...   \n",
              "1   <file_sep><fim_prefix>import re\\nimport uuid\\n...   \n",
              "2   <file_sep><fim_prefix>package tlsrpt\\nimport (...   \n",
              "3   <file_sep><fim_prefix>import { describe, expec...   \n",
              "4   <file_sep><fim_prefix>import type {\\n  Default...   \n",
              "5   <file_sep><fim_prefix>import { TreeGraphData }...   \n",
              "6   <file_sep><fim_prefix>#include \"tachyon/c/zk/p...   \n",
              "7   <file_sep><fim_prefix>package prisma\\nimport (...   \n",
              "8   <file_sep><fim_prefix>// Copyright 2019 The Go...   \n",
              "9   <file_sep><fim_prefix>// Copyright 2020 The Go...   \n",
              "10  <file_sep><fim_prefix>import * as React from'r...   \n",
              "11  <file_sep><fim_prefix>import type { urlModel }...   \n",
              "12  <file_sep><fim_prefix>#include \"tachyon/math/e...   \n",
              "13  <file_sep><fim_prefix>.Default()\\n\\t\\t},\\n\\t\\t...   \n",
              "14  <file_sep><fim_prefix>import { Tag, Space, Too...   \n",
              "15  <file_sep><fim_prefix>package com.tencent.supe...   \n",
              "16  <file_sep><fim_prefix>import logging\\nimport o...   \n",
              "17  <file_sep><fim_prefix>import pytest\\nfrom rest...   \n",
              "18  <file_sep><fim_prefix>import { gql } from '@ap...   \n",
              "19  <file_sep><fim_prefix>import { RuleTester } fr...   \n",
              "\n",
              "                                   canonical_solution  \\\n",
              "0                   \\t\\tswitch x.Interface().(type) {   \n",
              "1                                  st.markdown(\"---\")   \n",
              "2                            func (p *parser) wsp() {   \n",
              "3       expect(() => (rect = new class_test.Rect()...   \n",
              "4                  * Include or exclude stale queries   \n",
              "5               dimensions: ISemantic.IDimensionList;   \n",
              "6         tachyon_halo2_bn254_gwc_verifier* verifier,   \n",
              "7   \\terr = r.queries.CleanupStreamEvents(ctx, r.p...   \n",
              "8                  // on the current extension field.   \n",
              "9        \\tEntryRanger interface{ Range(VisitEntry) }   \n",
              "10            <TableRow className=\"p-4 text-center...   \n",
              "11                                   \\tfield: string;   \n",
              "12       G1AffinePoint g1s[] = {(a * g1).ToAffine()};   \n",
              "13                  \\toi := &oneofInfo{oneofDesc: od}   \n",
              "14                                      return <></>;   \n",
              "15          //selectExpressionItem.getExpression()...   \n",
              "16                                    logger.warning(   \n",
              "17                  \"residual_proba\": RISK_SCENARI...   \n",
              "18           summary?: InputMaybe<Scalars['String']>;   \n",
              "19             const queryClient = new QueryClient();   \n",
              "\n",
              "                                       model_response  target  \n",
              "0                     \\t\\t// False sorts before true.   False  \n",
              "1                    if st.session_state[\"mdl_json\"]:   False  \n",
              "2                                   //../rfc/8460:374   False  \n",
              "3       expect(() => (rect = new class_test.Rectan...   False  \n",
              "4        * Include queries matching this mutation key   False  \n",
              "5                            defaultMetricId: number;   False  \n",
              "6         tachyon_halo2_bn254_gwc_verifier* verifier,    True  \n",
              "7   \\t_, err = r.queries.CleanupStreamEvents(ctx, tx)   False  \n",
              "8      // on the extension field being iterated over.   False  \n",
              "9        \\tEntryRanger interface{ Range(VisitEntry) }    True  \n",
              "10                                         <TableRow>   False  \n",
              "11                                   \\tfield: string;    True  \n",
              "12                    G1AffinePoint g1s[] = {g1, g1};   False  \n",
              "13                         \\tif od.FullName() == \"\" {   False  \n",
              "14                                       return null;   False  \n",
              "15                                                  }   False  \n",
              "16                                    logger.warning(    True  \n",
              "17                  \"residual_proba\": RISK_SCENARI...    True  \n",
              "18           summary?: InputMaybe<Scalars['String']>;    True  \n",
              "19             const queryClient = new QueryClient();    True  "
            ]
          },
          "execution_count": 1,
          "metadata": {},
          "output_type": "execute_result"
        }
      ],
      "source": [
        "import numpy as np\n",
        "import pandas as pd\n",
        "import matplotlib.pyplot as plt\n",
        "import seaborn as sns\n",
        "import string\n",
        "import re\n",
        "import hashlib\n",
        "import spacy\n",
        "import logging\n",
        "from time import time\n",
        "import nltk\n",
        "nltk.download('stopwords')\n",
        "\n",
        "from tqdm import trange\n",
        "from nltk import tokenize\n",
        "from nltk.corpus import stopwords\n",
        "from nltk.stem import WordNetLemmatizer\n",
        "from nltk.probability import FreqDist\n",
        "from collections import Counter\n",
        "from collections import defaultdict\n",
        "from sklearn.feature_extraction.text import CountVectorizer\n",
        "#from google.colab import drive\n",
        "#drive.mount('/content/drive')\n",
        "dataset = pd.read_csv('dataset_bmm.csv')\n",
        "dataset.head(20)"
      ]
    },
    {
      "cell_type": "code",
      "execution_count": 2,
      "metadata": {
        "colab": {
          "base_uri": "https://localhost:8080/"
        },
        "id": "a66Zy0mkYXrA",
        "outputId": "053d706d-8a3d-4706-93f9-9b428174c834"
      },
      "outputs": [
        {
          "data": {
            "text/plain": [
              "target\n",
              "False    4059\n",
              "True     2603\n",
              "Name: count, dtype: int64"
            ]
          },
          "execution_count": 2,
          "metadata": {},
          "output_type": "execute_result"
        }
      ],
      "source": [
        "dataset['target'].value_counts()"
      ]
    },
    {
      "cell_type": "code",
      "execution_count": 3,
      "metadata": {
        "id": "BidfeXw2bDFW"
      },
      "outputs": [],
      "source": [
        "def diogram(target):\n",
        "  if target == True:\n",
        "    return \"Positive\"\n",
        "  if target == False:\n",
        "    return \"Negative\""
      ]
    },
    {
      "cell_type": "code",
      "execution_count": 4,
      "metadata": {
        "colab": {
          "base_uri": "https://localhost:8080/",
          "height": 406
        },
        "id": "kPwLTOtzcMmF",
        "outputId": "0f4388c7-9fd0-4bb3-ae3f-39fa7146da1e"
      },
      "outputs": [
        {
          "data": {
            "image/png": "[encoded data removed]",
            "text/plain": [
              "<Figure size 640x480 with 1 Axes>"
            ]
          },
          "metadata": {},
          "output_type": "display_data"
        }
      ],
      "source": [
        "dataset['target'] = dataset['target'].apply(diogram)\n",
        "plt.pie(dataset['target'].value_counts(), labels=dataset['target'].unique().tolist(), autopct='%1.1f%%')\n",
        "plt.show()"
      ]
    },
    {
      "cell_type": "code",
      "execution_count": 5,
      "metadata": {
        "colab": {
          "base_uri": "https://localhost:8080/"
        },
        "id": "s1C06PLMiAJK",
        "outputId": "844ce986-7faa-47e0-84c7-28962b179e3a"
      },
      "outputs": [
        {
          "name": "stdout",
          "output_type": "stream",
          "text": [
            "32750773\n"
          ]
        }
      ],
      "source": [
        "lenth = 0\n",
        "for i in dataset['prompt']:\n",
        "  lenth += len(i)\n",
        "print(lenth)"
      ]
    },
    {
      "cell_type": "code",
      "execution_count": 6,
      "metadata": {
        "id": "zvnwnSplmfYo"
      },
      "outputs": [],
      "source": [
        "#dataset.describe()"
      ]
    },
    {
      "cell_type": "code",
      "execution_count": 7,
      "metadata": {
        "colab": {
          "base_uri": "https://localhost:8080/",
          "height": 206
        },
        "id": "HnC1rAmspaZk",
        "outputId": "0b430217-b8b6-45d6-a933-4420c9a4f9ee"
      },
      "outputs": [
        {
          "data": {
            "text/html": [
              "<div>\n",
              "<style scoped>\n",
              "    .dataframe tbody tr th:only-of-type {\n",
              "        vertical-align: middle;\n",
              "    }\n",
              "\n",
              "    .dataframe tbody tr th {\n",
              "        vertical-align: top;\n",
              "    }\n",
              "\n",
              "    .dataframe thead th {\n",
              "        text-align: right;\n",
              "    }\n",
              "</style>\n",
              "<table border=\"1\" class=\"dataframe\">\n",
              "  <thead>\n",
              "    <tr style=\"text-align: right;\">\n",
              "      <th></th>\n",
              "      <th>prompt</th>\n",
              "      <th>canonical_solution</th>\n",
              "      <th>model_response</th>\n",
              "      <th>target</th>\n",
              "      <th>hash_promt</th>\n",
              "    </tr>\n",
              "  </thead>\n",
              "  <tbody>\n",
              "    <tr>\n",
              "      <th>0</th>\n",
              "      <td>&lt;file_sep&gt;&lt;fim_prefix&gt;// Copyright 2020 The Go...</td>\n",
              "      <td>\\t\\tswitch x.Interface().(type) {</td>\n",
              "      <td>\\t\\t// False sorts before true.</td>\n",
              "      <td>Negative</td>\n",
              "      <td>73738107</td>\n",
              "    </tr>\n",
              "    <tr>\n",
              "      <th>1</th>\n",
              "      <td>&lt;file_sep&gt;&lt;fim_prefix&gt;import re\\nimport uuid\\n...</td>\n",
              "      <td>st.markdown(\"---\")</td>\n",
              "      <td>if st.session_state[\"mdl_json\"]:</td>\n",
              "      <td>Negative</td>\n",
              "      <td>27996577</td>\n",
              "    </tr>\n",
              "    <tr>\n",
              "      <th>2</th>\n",
              "      <td>&lt;file_sep&gt;&lt;fim_prefix&gt;package tlsrpt\\nimport (...</td>\n",
              "      <td>func (p *parser) wsp() {</td>\n",
              "      <td>//../rfc/8460:374</td>\n",
              "      <td>Negative</td>\n",
              "      <td>33279091</td>\n",
              "    </tr>\n",
              "    <tr>\n",
              "      <th>3</th>\n",
              "      <td>&lt;file_sep&gt;&lt;fim_prefix&gt;import { describe, expec...</td>\n",
              "      <td>expect(() =&gt; (rect = new class_test.Rect()...</td>\n",
              "      <td>expect(() =&gt; (rect = new class_test.Rectan...</td>\n",
              "      <td>Negative</td>\n",
              "      <td>61860040</td>\n",
              "    </tr>\n",
              "    <tr>\n",
              "      <th>4</th>\n",
              "      <td>&lt;file_sep&gt;&lt;fim_prefix&gt;import type {\\n  Default...</td>\n",
              "      <td>* Include or exclude stale queries</td>\n",
              "      <td>* Include queries matching this mutation key</td>\n",
              "      <td>Negative</td>\n",
              "      <td>42837523</td>\n",
              "    </tr>\n",
              "  </tbody>\n",
              "</table>\n",
              "</div>"
            ],
            "text/plain": [
              "                                              prompt  \\\n",
              "0  <file_sep><fim_prefix>// Copyright 2020 The Go...   \n",
              "1  <file_sep><fim_prefix>import re\\nimport uuid\\n...   \n",
              "2  <file_sep><fim_prefix>package tlsrpt\\nimport (...   \n",
              "3  <file_sep><fim_prefix>import { describe, expec...   \n",
              "4  <file_sep><fim_prefix>import type {\\n  Default...   \n",
              "\n",
              "                                  canonical_solution  \\\n",
              "0                  \\t\\tswitch x.Interface().(type) {   \n",
              "1                                 st.markdown(\"---\")   \n",
              "2                           func (p *parser) wsp() {   \n",
              "3      expect(() => (rect = new class_test.Rect()...   \n",
              "4                 * Include or exclude stale queries   \n",
              "\n",
              "                                      model_response    target  hash_promt  \n",
              "0                    \\t\\t// False sorts before true.  Negative    73738107  \n",
              "1                   if st.session_state[\"mdl_json\"]:  Negative    27996577  \n",
              "2                                  //../rfc/8460:374  Negative    33279091  \n",
              "3      expect(() => (rect = new class_test.Rectan...  Negative    61860040  \n",
              "4       * Include queries matching this mutation key  Negative    42837523  "
            ]
          },
          "execution_count": 7,
          "metadata": {},
          "output_type": "execute_result"
        }
      ],
      "source": [
        "int(hashlib.sha1(i.encode(\"utf-8\")).hexdigest(), 16) % (10 ** 8)\n",
        "\n",
        "def ourhash(x):\n",
        "  return abs(hash(x)) % (10 ** 8)\n",
        "\n",
        "\n",
        "dataset['hash_promt'] = dataset['prompt'].apply(ourhash)\n",
        "\n",
        "dataset.head()\n",
        "\n",
        "\n"
      ]
    },
    {
      "cell_type": "markdown",
      "metadata": {
        "id": "7RZg4AxSJCwj"
      },
      "source": [
        "# most freq and n - grams\n"
      ]
    },
    {
      "cell_type": "code",
      "execution_count": 8,
      "metadata": {
        "colab": {
          "base_uri": "https://localhost:8080/",
          "height": 394
        },
        "id": "omoAGGJh_2Gg",
        "outputId": "b6a40b0f-ea8b-4b4f-b540-bb1240a2f88b"
      },
      "outputs": [
        {
          "data": {
            "text/html": [
              "<div>\n",
              "<style scoped>\n",
              "    .dataframe tbody tr th:only-of-type {\n",
              "        vertical-align: middle;\n",
              "    }\n",
              "\n",
              "    .dataframe tbody tr th {\n",
              "        vertical-align: top;\n",
              "    }\n",
              "\n",
              "    .dataframe thead th {\n",
              "        text-align: right;\n",
              "    }\n",
              "</style>\n",
              "<table border=\"1\" class=\"dataframe\">\n",
              "  <thead>\n",
              "    <tr style=\"text-align: right;\">\n",
              "      <th></th>\n",
              "      <th>prompt</th>\n",
              "      <th>canonical_solution</th>\n",
              "      <th>model_response</th>\n",
              "      <th>target</th>\n",
              "      <th>hash_promt</th>\n",
              "    </tr>\n",
              "  </thead>\n",
              "  <tbody>\n",
              "    <tr>\n",
              "      <th>count</th>\n",
              "      <td>6662</td>\n",
              "      <td>6662</td>\n",
              "      <td>6638</td>\n",
              "      <td>6662</td>\n",
              "      <td>6.662000e+03</td>\n",
              "    </tr>\n",
              "    <tr>\n",
              "      <th>unique</th>\n",
              "      <td>6652</td>\n",
              "      <td>6282</td>\n",
              "      <td>6161</td>\n",
              "      <td>2</td>\n",
              "      <td>NaN</td>\n",
              "    </tr>\n",
              "    <tr>\n",
              "      <th>top</th>\n",
              "      <td>&lt;file_sep&gt;&lt;fim_prefix&gt;import pytest\\nfrom abst...</td>\n",
              "      <td>\\tif err != nil {</td>\n",
              "      <td>}</td>\n",
              "      <td>Negative</td>\n",
              "      <td>NaN</td>\n",
              "    </tr>\n",
              "    <tr>\n",
              "      <th>freq</th>\n",
              "      <td>2</td>\n",
              "      <td>28</td>\n",
              "      <td>33</td>\n",
              "      <td>4059</td>\n",
              "      <td>NaN</td>\n",
              "    </tr>\n",
              "    <tr>\n",
              "      <th>mean</th>\n",
              "      <td>NaN</td>\n",
              "      <td>NaN</td>\n",
              "      <td>NaN</td>\n",
              "      <td>NaN</td>\n",
              "      <td>5.015849e+07</td>\n",
              "    </tr>\n",
              "    <tr>\n",
              "      <th>std</th>\n",
              "      <td>NaN</td>\n",
              "      <td>NaN</td>\n",
              "      <td>NaN</td>\n",
              "      <td>NaN</td>\n",
              "      <td>2.890599e+07</td>\n",
              "    </tr>\n",
              "    <tr>\n",
              "      <th>min</th>\n",
              "      <td>NaN</td>\n",
              "      <td>NaN</td>\n",
              "      <td>NaN</td>\n",
              "      <td>NaN</td>\n",
              "      <td>2.270700e+04</td>\n",
              "    </tr>\n",
              "    <tr>\n",
              "      <th>25%</th>\n",
              "      <td>NaN</td>\n",
              "      <td>NaN</td>\n",
              "      <td>NaN</td>\n",
              "      <td>NaN</td>\n",
              "      <td>2.502686e+07</td>\n",
              "    </tr>\n",
              "    <tr>\n",
              "      <th>50%</th>\n",
              "      <td>NaN</td>\n",
              "      <td>NaN</td>\n",
              "      <td>NaN</td>\n",
              "      <td>NaN</td>\n",
              "      <td>5.040787e+07</td>\n",
              "    </tr>\n",
              "    <tr>\n",
              "      <th>75%</th>\n",
              "      <td>NaN</td>\n",
              "      <td>NaN</td>\n",
              "      <td>NaN</td>\n",
              "      <td>NaN</td>\n",
              "      <td>7.515939e+07</td>\n",
              "    </tr>\n",
              "    <tr>\n",
              "      <th>max</th>\n",
              "      <td>NaN</td>\n",
              "      <td>NaN</td>\n",
              "      <td>NaN</td>\n",
              "      <td>NaN</td>\n",
              "      <td>9.998643e+07</td>\n",
              "    </tr>\n",
              "  </tbody>\n",
              "</table>\n",
              "</div>"
            ],
            "text/plain": [
              "                                                   prompt canonical_solution  \\\n",
              "count                                                6662               6662   \n",
              "unique                                               6652               6282   \n",
              "top     <file_sep><fim_prefix>import pytest\\nfrom abst...  \\tif err != nil {   \n",
              "freq                                                    2                 28   \n",
              "mean                                                  NaN                NaN   \n",
              "std                                                   NaN                NaN   \n",
              "min                                                   NaN                NaN   \n",
              "25%                                                   NaN                NaN   \n",
              "50%                                                   NaN                NaN   \n",
              "75%                                                   NaN                NaN   \n",
              "max                                                   NaN                NaN   \n",
              "\n",
              "       model_response    target    hash_promt  \n",
              "count            6638      6662  6.662000e+03  \n",
              "unique           6161         2           NaN  \n",
              "top                 }  Negative           NaN  \n",
              "freq               33      4059           NaN  \n",
              "mean              NaN       NaN  5.015849e+07  \n",
              "std               NaN       NaN  2.890599e+07  \n",
              "min               NaN       NaN  2.270700e+04  \n",
              "25%               NaN       NaN  2.502686e+07  \n",
              "50%               NaN       NaN  5.040787e+07  \n",
              "75%               NaN       NaN  7.515939e+07  \n",
              "max               NaN       NaN  9.998643e+07  "
            ]
          },
          "execution_count": 8,
          "metadata": {},
          "output_type": "execute_result"
        }
      ],
      "source": [
        "dataset.describe(include='all')\n"
      ]
    },
    {
      "cell_type": "code",
      "execution_count": 9,
      "metadata": {
        "id": "D7tkyZmBEOtY"
      },
      "outputs": [],
      "source": [
        "dataset['prompt'] =  list(map(lambda x: x[22:], dataset['prompt']))\n",
        "dataset['prompt'] =  list(map(lambda x: x[:-24], dataset['prompt']))\n",
        "\n",
        "def clean(review):\n",
        "\n",
        "    review = review.lower()\n",
        "    review = re.sub('[^a-z A-Z 0-9-]+', '', review)\n",
        "    review = \" \".join([word for word in review.split() if word not in stopwords.words('english')])\n",
        "\n",
        "    return review\n",
        "\n",
        "def remove_comments_and_symbols(prompt):\n",
        "    # Шаг 1: Удаление комментариев\n",
        "    prompt = re.sub(r'//.*|/\\*.*?\\*/|#.*', '', prompt, flags=re.DOTALL)\n",
        "\n",
        "    # Шаг 2: Удаление символов, не являющихся буквами, цифрами и некоторыми специальными символами\n",
        "    prompt = re.sub(r'[^a-zA-Z0-9\\s_]', '', prompt)\n",
        "\n",
        "    # Шаг 3: Обработка многократных пробелов\n",
        "    prompt = re.sub(r'\\s+', ' ', prompt).strip()\n",
        "\n",
        "    return prompt\n",
        "\n",
        "#dataset['promptz'] = dataset['prompt'].apply(clean)\n",
        "moredata = pd.read_csv('processed_prompt_data.csv')\n",
        "dataset['promptz'] = moredata\n"
      ]
    },
    {
      "cell_type": "code",
      "execution_count": 10,
      "metadata": {
        "id": "G0JhRrJPMS19"
      },
      "outputs": [
        {
          "data": {
            "text/html": [
              "<div>\n",
              "<style scoped>\n",
              "    .dataframe tbody tr th:only-of-type {\n",
              "        vertical-align: middle;\n",
              "    }\n",
              "\n",
              "    .dataframe tbody tr th {\n",
              "        vertical-align: top;\n",
              "    }\n",
              "\n",
              "    .dataframe thead th {\n",
              "        text-align: right;\n",
              "    }\n",
              "</style>\n",
              "<table border=\"1\" class=\"dataframe\">\n",
              "  <thead>\n",
              "    <tr style=\"text-align: right;\">\n",
              "      <th></th>\n",
              "      <th>prompt</th>\n",
              "      <th>canonical_solution</th>\n",
              "      <th>model_response</th>\n",
              "      <th>target</th>\n",
              "      <th>hash_promt</th>\n",
              "      <th>promptz</th>\n",
              "      <th>prompt_lists</th>\n",
              "    </tr>\n",
              "  </thead>\n",
              "  <tbody>\n",
              "    <tr>\n",
              "      <th>0</th>\n",
              "      <td>// Copyright 2020 The Go Authors. All rights r...</td>\n",
              "      <td>\\t\\tswitch x.Interface().(type) {</td>\n",
              "      <td>\\t\\t// False sorts before true.</td>\n",
              "      <td>Negative</td>\n",
              "      <td>73738107</td>\n",
              "      <td>copyright 2020 go author right reserved use so...</td>\n",
              "      <td>[copyright, 2020, go, author, right, reserved,...</td>\n",
              "    </tr>\n",
              "    <tr>\n",
              "      <th>1</th>\n",
              "      <td>import re\\nimport uuid\\nimport orjson\\nimport ...</td>\n",
              "      <td>st.markdown(\"---\")</td>\n",
              "      <td>if st.session_state[\"mdl_json\"]:</td>\n",
              "      <td>Negative</td>\n",
              "      <td>27996577</td>\n",
              "      <td>import import uuid import orjson import stream...</td>\n",
              "      <td>[import, import, uuid, import, orjson, import,...</td>\n",
              "    </tr>\n",
              "    <tr>\n",
              "      <th>2</th>\n",
              "      <td>package tlsrpt\\nimport (\\n\\t\"fmt\"\\n\\t\"net/url\"...</td>\n",
              "      <td>func (p *parser) wsp() {</td>\n",
              "      <td>//../rfc/8460:374</td>\n",
              "      <td>Negative</td>\n",
              "      <td>33279091</td>\n",
              "      <td>package tlsrpt import fmt string extension add...</td>\n",
              "      <td>[package, tlsrpt, import, fmt, string, extensi...</td>\n",
              "    </tr>\n",
              "    <tr>\n",
              "      <th>3</th>\n",
              "      <td>import { describe, expect, test } from '@jest/...</td>\n",
              "      <td>expect(() =&gt; (rect = new class_test.Rect()...</td>\n",
              "      <td>expect(() =&gt; (rect = new class_test.Rectan...</td>\n",
              "      <td>Negative</td>\n",
              "      <td>61860040</td>\n",
              "      <td>import describe expect test const require cons...</td>\n",
              "      <td>[import, describe, expect, test, const, requir...</td>\n",
              "    </tr>\n",
              "    <tr>\n",
              "      <th>4</th>\n",
              "      <td>import type {\\n  DefaultError,\\n  Enabled,\\n  ...</td>\n",
              "      <td>* Include or exclude stale queries</td>\n",
              "      <td>* Include queries matching this mutation key</td>\n",
              "      <td>Negative</td>\n",
              "      <td>42837523</td>\n",
              "      <td>import type defaulterror enabled fetchstatus m...</td>\n",
              "      <td>[import, type, defaulterror, enabled, fetchsta...</td>\n",
              "    </tr>\n",
              "    <tr>\n",
              "      <th>5</th>\n",
              "      <td>import { TreeGraphData } from '@antv/g6-core';...</td>\n",
              "      <td>dimensions: ISemantic.IDimensionList;</td>\n",
              "      <td>defaultMetricId: number;</td>\n",
              "      <td>Negative</td>\n",
              "      <td>31654334</td>\n",
              "      <td>import treegraphdata import statusenum import ...</td>\n",
              "      <td>[import, treegraphdata, import, statusenum, im...</td>\n",
              "    </tr>\n",
              "    <tr>\n",
              "      <th>6</th>\n",
              "      <td>#include \"tachyon/c/zk/plonk/halo2/bn254_gwc_v...</td>\n",
              "      <td>tachyon_halo2_bn254_gwc_verifier* verifier,</td>\n",
              "      <td>tachyon_halo2_bn254_gwc_verifier* verifier,</td>\n",
              "      <td>Positive</td>\n",
              "      <td>14689541</td>\n",
              "      <td>include include memory include utility include...</td>\n",
              "      <td>[include, include, memory, include, utility, i...</td>\n",
              "    </tr>\n",
              "    <tr>\n",
              "      <th>7</th>\n",
              "      <td>package prisma\\nimport (\\n\\t\"context\"\\n\\t\"erro...</td>\n",
              "      <td>\\terr = r.queries.CleanupStreamEvents(ctx, r.p...</td>\n",
              "      <td>\\t_, err = r.queries.CleanupStreamEvents(ctx, tx)</td>\n",
              "      <td>Negative</td>\n",
              "      <td>98302043</td>\n",
              "      <td>package prisma import context error fmt type s...</td>\n",
              "      <td>[package, prisma, import, context, error, fmt,...</td>\n",
              "    </tr>\n",
              "    <tr>\n",
              "      <th>8</th>\n",
              "      <td>// Copyright 2019 The Go Authors. All rights r...</td>\n",
              "      <td>// on the current extension field.</td>\n",
              "      <td>// on the extension field being iterated over.</td>\n",
              "      <td>Negative</td>\n",
              "      <td>25917358</td>\n",
              "      <td>copyright 2019 go author right reserved use so...</td>\n",
              "      <td>[copyright, 2019, go, author, right, reserved,...</td>\n",
              "    </tr>\n",
              "    <tr>\n",
              "      <th>9</th>\n",
              "      <td>// Copyright 2020 The Go Authors. All rights r...</td>\n",
              "      <td>\\tEntryRanger interface{ Range(VisitEntry) }</td>\n",
              "      <td>\\tEntryRanger interface{ Range(VisitEntry) }</td>\n",
              "      <td>Positive</td>\n",
              "      <td>90044842</td>\n",
              "      <td>copyright 2020 go author right reserved use so...</td>\n",
              "      <td>[copyright, 2020, go, author, right, reserved,...</td>\n",
              "    </tr>\n",
              "  </tbody>\n",
              "</table>\n",
              "</div>"
            ],
            "text/plain": [
              "                                              prompt  \\\n",
              "0  // Copyright 2020 The Go Authors. All rights r...   \n",
              "1  import re\\nimport uuid\\nimport orjson\\nimport ...   \n",
              "2  package tlsrpt\\nimport (\\n\\t\"fmt\"\\n\\t\"net/url\"...   \n",
              "3  import { describe, expect, test } from '@jest/...   \n",
              "4  import type {\\n  DefaultError,\\n  Enabled,\\n  ...   \n",
              "5  import { TreeGraphData } from '@antv/g6-core';...   \n",
              "6  #include \"tachyon/c/zk/plonk/halo2/bn254_gwc_v...   \n",
              "7  package prisma\\nimport (\\n\\t\"context\"\\n\\t\"erro...   \n",
              "8  // Copyright 2019 The Go Authors. All rights r...   \n",
              "9  // Copyright 2020 The Go Authors. All rights r...   \n",
              "\n",
              "                                  canonical_solution  \\\n",
              "0                  \\t\\tswitch x.Interface().(type) {   \n",
              "1                                 st.markdown(\"---\")   \n",
              "2                           func (p *parser) wsp() {   \n",
              "3      expect(() => (rect = new class_test.Rect()...   \n",
              "4                 * Include or exclude stale queries   \n",
              "5              dimensions: ISemantic.IDimensionList;   \n",
              "6        tachyon_halo2_bn254_gwc_verifier* verifier,   \n",
              "7  \\terr = r.queries.CleanupStreamEvents(ctx, r.p...   \n",
              "8                 // on the current extension field.   \n",
              "9       \\tEntryRanger interface{ Range(VisitEntry) }   \n",
              "\n",
              "                                      model_response    target  hash_promt  \\\n",
              "0                    \\t\\t// False sorts before true.  Negative    73738107   \n",
              "1                   if st.session_state[\"mdl_json\"]:  Negative    27996577   \n",
              "2                                  //../rfc/8460:374  Negative    33279091   \n",
              "3      expect(() => (rect = new class_test.Rectan...  Negative    61860040   \n",
              "4       * Include queries matching this mutation key  Negative    42837523   \n",
              "5                           defaultMetricId: number;  Negative    31654334   \n",
              "6        tachyon_halo2_bn254_gwc_verifier* verifier,  Positive    14689541   \n",
              "7  \\t_, err = r.queries.CleanupStreamEvents(ctx, tx)  Negative    98302043   \n",
              "8     // on the extension field being iterated over.  Negative    25917358   \n",
              "9       \\tEntryRanger interface{ Range(VisitEntry) }  Positive    90044842   \n",
              "\n",
              "                                             promptz  \\\n",
              "0  copyright 2020 go author right reserved use so...   \n",
              "1  import import uuid import orjson import stream...   \n",
              "2  package tlsrpt import fmt string extension add...   \n",
              "3  import describe expect test const require cons...   \n",
              "4  import type defaulterror enabled fetchstatus m...   \n",
              "5  import treegraphdata import statusenum import ...   \n",
              "6  include include memory include utility include...   \n",
              "7  package prisma import context error fmt type s...   \n",
              "8  copyright 2019 go author right reserved use so...   \n",
              "9  copyright 2020 go author right reserved use so...   \n",
              "\n",
              "                                        prompt_lists  \n",
              "0  [copyright, 2020, go, author, right, reserved,...  \n",
              "1  [import, import, uuid, import, orjson, import,...  \n",
              "2  [package, tlsrpt, import, fmt, string, extensi...  \n",
              "3  [import, describe, expect, test, const, requir...  \n",
              "4  [import, type, defaulterror, enabled, fetchsta...  \n",
              "5  [import, treegraphdata, import, statusenum, im...  \n",
              "6  [include, include, memory, include, utility, i...  \n",
              "7  [package, prisma, import, context, error, fmt,...  \n",
              "8  [copyright, 2019, go, author, right, reserved,...  \n",
              "9  [copyright, 2020, go, author, right, reserved,...  "
            ]
          },
          "execution_count": 10,
          "metadata": {},
          "output_type": "execute_result"
        }
      ],
      "source": [
        "def corpus(text):\n",
        "    text_list = text.split()\n",
        "    return text_list\n",
        "\n",
        "dataset['prompt_lists'] = dataset['promptz'].apply(corpus)\n",
        "dataset.head(10)"
      ]
    },
    {
      "cell_type": "code",
      "execution_count": 11,
      "metadata": {
        "colab": {
          "base_uri": "https://localhost:8080/"
        },
        "id": "QzwQMVadQxdx",
        "outputId": "be934e2d-bfb3-4b1f-b6f7-74f7f5a073fc"
      },
      "outputs": [
        {
          "name": "stderr",
          "output_type": "stream",
          "text": [
            "100%|\u001b[32m██████████████████████████████████████████████████████████████████████████████████████████████████████████\u001b[0m| 6662/6662 [00:00<00:00, 44813.76it/s]\u001b[0m\n"
          ]
        },
        {
          "data": {
            "text/plain": [
              "[('return', 47855),\n",
              " ('import', 46044),\n",
              " ('string', 34047),\n",
              " ('const', 30785),\n",
              " ('err', 30084),\n",
              " ('nil', 20435),\n",
              " ('0', 18749),\n",
              " ('func', 18395),\n",
              " ('type', 17109),\n",
              " ('1', 15535)]"
            ]
          },
          "execution_count": 11,
          "metadata": {},
          "output_type": "execute_result"
        }
      ],
      "source": [
        "corpus = []\n",
        "for i in trange(dataset.shape[0], ncols=150, nrows=10, colour='green', smoothing=0.8):\n",
        "    corpus += dataset['prompt_lists'][i]\n",
        "len(corpus)\n",
        "\n",
        "mostCommon = Counter(corpus).most_common(10)\n",
        "mostCommon"
      ]
    },
    {
      "cell_type": "code",
      "execution_count": 12,
      "metadata": {
        "colab": {
          "base_uri": "https://localhost:8080/",
          "height": 452
        },
        "id": "ZfXxn0gcQ9iG",
        "outputId": "ca5cc784-6780-4032-ffe8-d6a1484c8f04"
      },
      "outputs": [
        {
          "data": {
            "image/png": "[encoded data removed]",
            "text/plain": [
              "<Figure size 640x480 with 1 Axes>"
            ]
          },
          "metadata": {},
          "output_type": "display_data"
        }
      ],
      "source": [
        "words = []\n",
        "freq = []\n",
        "for word, count in mostCommon:\n",
        "    words.append(word)\n",
        "    freq.append(count)\n",
        "\n",
        "sns.barplot(x=freq, y=words)\n",
        "plt.title('Top 10 Most Frequently Occuring Words')\n",
        "plt.show()"
      ]
    },
    {
      "cell_type": "code",
      "execution_count": 13,
      "metadata": {
        "id": "M0gWpVFiRALQ"
      },
      "outputs": [],
      "source": [
        "cv = CountVectorizer(ngram_range=(2,2))\n",
        "bigrams = cv.fit_transform(dataset['promptz'])"
      ]
    },
    {
      "cell_type": "code",
      "execution_count": 14,
      "metadata": {
        "id": "I7YAPqhnRQa_"
      },
      "outputs": [],
      "source": [
        "count_values = bigrams.toarray().sum(axis=0)\n",
        "ngram_freq = pd.DataFrame(sorted([(count_values[i], k) for k, i in cv.vocabulary_.items()], reverse = True))\n",
        "ngram_freq.columns = [\"frequency\", \"ngram\"]"
      ]
    },
    {
      "cell_type": "code",
      "execution_count": 15,
      "metadata": {
        "colab": {
          "base_uri": "https://localhost:8080/",
          "height": 472
        },
        "id": "020ikxVSRS1b",
        "outputId": "b03fea8e-3393-4819-98cf-27ca758bf16f"
      },
      "outputs": [],
      "source": [
        "sns.barplot(x=ngram_freq['frequency'][:10], y=ngram_freq['ngram'][:10])\n",
        "plt.title('Top 10 Most Frequently Occuring Bigrams')\n",
        "plt.show()"
      ]
    },
    {
      "cell_type": "code",
      "execution_count": 16,
      "metadata": {
        "id": "30FJpZEURs8o"
      },
      "outputs": [],
      "source": [
        "cv1 = CountVectorizer(ngram_range=(3,3))\n",
        "trigrams = cv1.fit_transform(dataset['promptz'])\n",
        "count_values = trigrams.toarray().sum(axis=0)\n",
        "ngram_freq = pd.DataFrame(sorted([(count_values[i], k) for k, i in cv1.vocabulary_.items()], reverse = True))\n",
        "ngram_freq.columns = [\"frequency\", \"ngram\"]"
      ]
    },
    {
      "cell_type": "code",
      "execution_count": 17,
      "metadata": {
        "colab": {
          "base_uri": "https://localhost:8080/",
          "height": 472
        },
        "id": "gewUzV3vRvPx",
        "outputId": "a6a35c53-929f-4999-b88f-f04a8cdaf0d4"
      },
      "outputs": [],
      "source": [
        "sns.barplot(x=ngram_freq['frequency'][:10], y=ngram_freq['ngram'][:10])\n",
        "plt.title('Top 10 Most Frequently Occuring Trigrams')\n",
        "plt.show()"
      ]
    },
    {
      "cell_type": "code",
      "execution_count": 18,
      "metadata": {
        "colab": {
          "base_uri": "https://localhost:8080/",
          "height": 608
        },
        "id": "BmWULQvtUVJP",
        "outputId": "ad06b403-d88d-43a8-c7a8-30ee48b40a8a"
      },
      "outputs": [
        {
          "data": {
            "text/html": [
              "<div>\n",
              "<style scoped>\n",
              "    .dataframe tbody tr th:only-of-type {\n",
              "        vertical-align: middle;\n",
              "    }\n",
              "\n",
              "    .dataframe tbody tr th {\n",
              "        vertical-align: top;\n",
              "    }\n",
              "\n",
              "    .dataframe thead th {\n",
              "        text-align: right;\n",
              "    }\n",
              "</style>\n",
              "<table border=\"1\" class=\"dataframe\">\n",
              "  <thead>\n",
              "    <tr style=\"text-align: right;\">\n",
              "      <th></th>\n",
              "      <th>prompt</th>\n",
              "      <th>canonical_solution</th>\n",
              "      <th>model_response</th>\n",
              "      <th>target</th>\n",
              "      <th>hash_promt</th>\n",
              "      <th>promptz</th>\n",
              "      <th>prompt_lists</th>\n",
              "      <th>prompt_last</th>\n",
              "    </tr>\n",
              "  </thead>\n",
              "  <tbody>\n",
              "    <tr>\n",
              "      <th>0</th>\n",
              "      <td>// Copyright 2020 The Go Authors. All rights r...</td>\n",
              "      <td>\\t\\tswitch x.Interface().(type) {</td>\n",
              "      <td>\\t\\t// False sorts before true.</td>\n",
              "      <td>Negative</td>\n",
              "      <td>73738107</td>\n",
              "      <td>copyright 2020 go author right reserved use so...</td>\n",
              "      <td>[copyright, 2020, go, author, right, reserved,...</td>\n",
              "      <td>sorted fullname return sorted declaration inde...</td>\n",
              "    </tr>\n",
              "    <tr>\n",
              "      <th>1</th>\n",
              "      <td>import re\\nimport uuid\\nimport orjson\\nimport ...</td>\n",
              "      <td>st.markdown(\"---\")</td>\n",
              "      <td>if st.session_state[\"mdl_json\"]:</td>\n",
              "      <td>Negative</td>\n",
              "      <td>27996577</td>\n",
              "      <td>import import uuid import orjson import stream...</td>\n",
              "      <td>[import, import, uuid, import, orjson, import,...</td>\n",
              "      <td>deployed model model relationship f current de...</td>\n",
              "    </tr>\n",
              "    <tr>\n",
              "      <th>2</th>\n",
              "      <td>package tlsrpt\\nimport (\\n\\t\"fmt\"\\n\\t\"net/url\"...</td>\n",
              "      <td>func (p *parser) wsp() {</td>\n",
              "      <td>//../rfc/8460:374</td>\n",
              "      <td>Negative</td>\n",
              "      <td>33279091</td>\n",
              "      <td>package tlsrpt import fmt string extension add...</td>\n",
              "      <td>[package, tlsrpt, import, fmt, string, extensi...</td>\n",
              "      <td>z b b z b 0 b 9 0 b b b func p parser xvalue s...</td>\n",
              "    </tr>\n",
              "    <tr>\n",
              "      <th>3</th>\n",
              "      <td>import { describe, expect, test } from '@jest/...</td>\n",
              "      <td>expect(() =&gt; (rect = new class_test.Rect()...</td>\n",
              "      <td>expect(() =&gt; (rect = new class_test.Rectan...</td>\n",
              "      <td>Negative</td>\n",
              "      <td>61860040</td>\n",
              "      <td>import describe expect test const require cons...</td>\n",
              "      <td>[import, describe, expect, test, const, requir...</td>\n",
              "      <td>adder null expect adder new expect 10 expect 2...</td>\n",
              "    </tr>\n",
              "    <tr>\n",
              "      <th>4</th>\n",
              "      <td>import type {\\n  DefaultError,\\n  Enabled,\\n  ...</td>\n",
              "      <td>* Include or exclude stale queries</td>\n",
              "      <td>* Include queries matching this mutation key</td>\n",
              "      <td>Negative</td>\n",
              "      <td>42837523</td>\n",
              "      <td>import type defaulterror enabled fetchstatus m...</td>\n",
              "      <td>[import, type, defaulterror, enabled, fetchsta...</td>\n",
              "      <td>defaulterror enabled fetchstatus mutationkey m...</td>\n",
              "    </tr>\n",
              "    <tr>\n",
              "      <th>5</th>\n",
              "      <td>import { TreeGraphData } from '@antv/g6-core';...</td>\n",
              "      <td>dimensions: ISemantic.IDimensionList;</td>\n",
              "      <td>defaultMetricId: number;</td>\n",
              "      <td>Negative</td>\n",
              "      <td>31654334</td>\n",
              "      <td>import treegraphdata import statusenum import ...</td>\n",
              "      <td>[import, treegraphdata, import, statusenum, im...</td>\n",
              "      <td>entityids entityinternaldetaildesc dimensionli...</td>\n",
              "    </tr>\n",
              "    <tr>\n",
              "      <th>6</th>\n",
              "      <td>#include \"tachyon/c/zk/plonk/halo2/bn254_gwc_v...</td>\n",
              "      <td>tachyon_halo2_bn254_gwc_verifier* verifier,</td>\n",
              "      <td>tachyon_halo2_bn254_gwc_verifier* verifier,</td>\n",
              "      <td>Positive</td>\n",
              "      <td>14689541</td>\n",
              "      <td>include include memory include utility include...</td>\n",
              "      <td>[include, include, memory, include, utility, i...</td>\n",
              "      <td>crypto math reader switch zk case zk reader st...</td>\n",
              "    </tr>\n",
              "    <tr>\n",
              "      <th>7</th>\n",
              "      <td>package prisma\\nimport (\\n\\t\"context\"\\n\\t\"erro...</td>\n",
              "      <td>\\terr = r.queries.CleanupStreamEvents(ctx, r.p...</td>\n",
              "      <td>\\t_, err = r.queries.CleanupStreamEvents(ctx, tx)</td>\n",
              "      <td>Negative</td>\n",
              "      <td>98302043</td>\n",
              "      <td>package prisma import context error fmt type s...</td>\n",
              "      <td>[package, prisma, import, context, error, fmt,...</td>\n",
              "      <td>id streameventid tenantid pgtenantid err nil e...</td>\n",
              "    </tr>\n",
              "    <tr>\n",
              "      <th>8</th>\n",
              "      <td>// Copyright 2019 The Go Authors. All rights r...</td>\n",
              "      <td>// on the current extension field.</td>\n",
              "      <td>// on the extension field being iterated over.</td>\n",
              "      <td>Negative</td>\n",
              "      <td>25917358</td>\n",
              "      <td>copyright 2019 go author right reserved use so...</td>\n",
              "      <td>[copyright, 2019, go, author, right, reserved,...</td>\n",
              "      <td>interface xd pv v specially treat invalid list...</td>\n",
              "    </tr>\n",
              "    <tr>\n",
              "      <th>9</th>\n",
              "      <td>// Copyright 2020 The Go Authors. All rights r...</td>\n",
              "      <td>\\tEntryRanger interface{ Range(VisitEntry) }</td>\n",
              "      <td>\\tEntryRanger interface{ Range(VisitEntry) }</td>\n",
              "      <td>Positive</td>\n",
              "      <td>90044842</td>\n",
              "      <td>copyright 2020 go author right reserved use so...</td>\n",
              "      <td>[copyright, 2020, go, author, right, reserved,...</td>\n",
              "      <td>bool field append field messagefield fd v retu...</td>\n",
              "    </tr>\n",
              "  </tbody>\n",
              "</table>\n",
              "</div>"
            ],
            "text/plain": [
              "                                              prompt  \\\n",
              "0  // Copyright 2020 The Go Authors. All rights r...   \n",
              "1  import re\\nimport uuid\\nimport orjson\\nimport ...   \n",
              "2  package tlsrpt\\nimport (\\n\\t\"fmt\"\\n\\t\"net/url\"...   \n",
              "3  import { describe, expect, test } from '@jest/...   \n",
              "4  import type {\\n  DefaultError,\\n  Enabled,\\n  ...   \n",
              "5  import { TreeGraphData } from '@antv/g6-core';...   \n",
              "6  #include \"tachyon/c/zk/plonk/halo2/bn254_gwc_v...   \n",
              "7  package prisma\\nimport (\\n\\t\"context\"\\n\\t\"erro...   \n",
              "8  // Copyright 2019 The Go Authors. All rights r...   \n",
              "9  // Copyright 2020 The Go Authors. All rights r...   \n",
              "\n",
              "                                  canonical_solution  \\\n",
              "0                  \\t\\tswitch x.Interface().(type) {   \n",
              "1                                 st.markdown(\"---\")   \n",
              "2                           func (p *parser) wsp() {   \n",
              "3      expect(() => (rect = new class_test.Rect()...   \n",
              "4                 * Include or exclude stale queries   \n",
              "5              dimensions: ISemantic.IDimensionList;   \n",
              "6        tachyon_halo2_bn254_gwc_verifier* verifier,   \n",
              "7  \\terr = r.queries.CleanupStreamEvents(ctx, r.p...   \n",
              "8                 // on the current extension field.   \n",
              "9       \\tEntryRanger interface{ Range(VisitEntry) }   \n",
              "\n",
              "                                      model_response    target  hash_promt  \\\n",
              "0                    \\t\\t// False sorts before true.  Negative    73738107   \n",
              "1                   if st.session_state[\"mdl_json\"]:  Negative    27996577   \n",
              "2                                  //../rfc/8460:374  Negative    33279091   \n",
              "3      expect(() => (rect = new class_test.Rectan...  Negative    61860040   \n",
              "4       * Include queries matching this mutation key  Negative    42837523   \n",
              "5                           defaultMetricId: number;  Negative    31654334   \n",
              "6        tachyon_halo2_bn254_gwc_verifier* verifier,  Positive    14689541   \n",
              "7  \\t_, err = r.queries.CleanupStreamEvents(ctx, tx)  Negative    98302043   \n",
              "8     // on the extension field being iterated over.  Negative    25917358   \n",
              "9       \\tEntryRanger interface{ Range(VisitEntry) }  Positive    90044842   \n",
              "\n",
              "                                             promptz  \\\n",
              "0  copyright 2020 go author right reserved use so...   \n",
              "1  import import uuid import orjson import stream...   \n",
              "2  package tlsrpt import fmt string extension add...   \n",
              "3  import describe expect test const require cons...   \n",
              "4  import type defaulterror enabled fetchstatus m...   \n",
              "5  import treegraphdata import statusenum import ...   \n",
              "6  include include memory include utility include...   \n",
              "7  package prisma import context error fmt type s...   \n",
              "8  copyright 2019 go author right reserved use so...   \n",
              "9  copyright 2020 go author right reserved use so...   \n",
              "\n",
              "                                        prompt_lists  \\\n",
              "0  [copyright, 2020, go, author, right, reserved,...   \n",
              "1  [import, import, uuid, import, orjson, import,...   \n",
              "2  [package, tlsrpt, import, fmt, string, extensi...   \n",
              "3  [import, describe, expect, test, const, requir...   \n",
              "4  [import, type, defaulterror, enabled, fetchsta...   \n",
              "5  [import, treegraphdata, import, statusenum, im...   \n",
              "6  [include, include, memory, include, utility, i...   \n",
              "7  [package, prisma, import, context, error, fmt,...   \n",
              "8  [copyright, 2019, go, author, right, reserved,...   \n",
              "9  [copyright, 2020, go, author, right, reserved,...   \n",
              "\n",
              "                                         prompt_last  \n",
              "0  sorted fullname return sorted declaration inde...  \n",
              "1  deployed model model relationship f current de...  \n",
              "2  z b b z b 0 b 9 0 b b b func p parser xvalue s...  \n",
              "3  adder null expect adder new expect 10 expect 2...  \n",
              "4  defaulterror enabled fetchstatus mutationkey m...  \n",
              "5  entityids entityinternaldetaildesc dimensionli...  \n",
              "6  crypto math reader switch zk case zk reader st...  \n",
              "7  id streameventid tenantid pgtenantid err nil e...  \n",
              "8  interface xd pv v specially treat invalid list...  \n",
              "9  bool field append field messagefield fd v retu...  "
            ]
          },
          "execution_count": 18,
          "metadata": {},
          "output_type": "execute_result"
        }
      ],
      "source": [
        "def last(x):\n",
        "  x = x.split()\n",
        "  return ' '.join(x[-50:])\n",
        "\n",
        "dataset['prompt_last'] = dataset['promptz'].apply(last)\n",
        "dataset.head(10)"
      ]
    },
    {
      "cell_type": "markdown",
      "metadata": {
        "id": "b-bkFpVOJhYQ"
      },
      "source": [
        "# lang search"
      ]
    },
    {
      "cell_type": "code",
      "execution_count": 19,
      "metadata": {
        "id": "7Y_QikO8iur8"
      },
      "outputs": [],
      "source": [
        "def lang(x):\n",
        "  for i in x:\n",
        "    if i in [\"nil\"]:\n",
        "      return \"go\"\n",
        "    elif i in[\"include\"]:\n",
        "      return \"c++\"\n",
        "    elif i in [\"def\"]:\n",
        "      return \"python\"\n",
        "    elif i in ['extends', 'implements', 'default', 'instanceof']:\n",
        "      return \"java\"\n",
        "    elif i in [\"let\", 'enum', 'readonly', 'declare', 'protected']:\n",
        "      return \"typescript\"\n",
        "  return \"non\"\n",
        "\n",
        "dataset['language'] = dataset['prompt_lists'].apply(lang)\n",
        "\n",
        "\n",
        "\n",
        "#go\n",
        "#pyt\n",
        "#go\n",
        "#type\n",
        "#c++"
      ]
    },
    {
      "cell_type": "code",
      "execution_count": 20,
      "metadata": {
        "id": "DdamuwNiSvOh"
      },
      "outputs": [],
      "source": [
        "def lang1(x):\n",
        "  go = ['nil']\n",
        "  java = ['interface','extends','implements','synchronized','transient','volatile','default','instanceof','assert','strictfp']\n",
        "  typescript = ['interface','type','enum','readonly','abstract','public','private','protected','declare']\n",
        "  python = ['def','lambda']#,'yield','async','await','with','del','global','nonlocal','pass']\n",
        "  c = ['include']#,'template','namespace','virtual','private', 'protected', 'public','friend','inline','constexpr']\n",
        "  mas = [['go', 'java', 'type', 'python', 'c'], [0, 0,0,0,0]]\n",
        "  for i in range(len(mas)):\n",
        "    mas[1][i] = 0\n",
        "\n",
        "  for i in x:\n",
        "    if i in go: mas[1][0] += 100000000\n",
        "    elif i in java: mas[1][1] += 1\n",
        "    elif i in typescript: mas[1][2] += 1\n",
        "    elif i in python: mas[1][3] += 100000000\n",
        "    elif i in c: mas[1][4]+=10000000000\n",
        "\n",
        "  a = -1\n",
        "  z = ''\n",
        "  for i in range(5):\n",
        "    if mas[1][i] > a:\n",
        "      a = mas[1][i]\n",
        "      z = mas[0][i]\n",
        "  return z\n",
        "\n",
        "dataset['language'] = dataset['prompt_lists'].apply(lang1)"
      ]
    },
    {
      "cell_type": "code",
      "execution_count": 21,
      "metadata": {
        "colab": {
          "base_uri": "https://localhost:8080/",
          "height": 686
        },
        "id": "l4BtggjlMgu_",
        "outputId": "9abac1a3-9a9a-43da-951a-f49f9669ebcb"
      },
      "outputs": [
        {
          "data": {
            "text/html": [
              "<div>\n",
              "<style scoped>\n",
              "    .dataframe tbody tr th:only-of-type {\n",
              "        vertical-align: middle;\n",
              "    }\n",
              "\n",
              "    .dataframe tbody tr th {\n",
              "        vertical-align: top;\n",
              "    }\n",
              "\n",
              "    .dataframe thead th {\n",
              "        text-align: right;\n",
              "    }\n",
              "</style>\n",
              "<table border=\"1\" class=\"dataframe\">\n",
              "  <thead>\n",
              "    <tr style=\"text-align: right;\">\n",
              "      <th></th>\n",
              "      <th>prompt</th>\n",
              "      <th>canonical_solution</th>\n",
              "      <th>model_response</th>\n",
              "      <th>target</th>\n",
              "      <th>hash_promt</th>\n",
              "      <th>promptz</th>\n",
              "      <th>prompt_lists</th>\n",
              "      <th>prompt_last</th>\n",
              "      <th>language</th>\n",
              "    </tr>\n",
              "  </thead>\n",
              "  <tbody>\n",
              "    <tr>\n",
              "      <th>0</th>\n",
              "      <td>// Copyright 2020 The Go Authors. All rights r...</td>\n",
              "      <td>\\t\\tswitch x.Interface().(type) {</td>\n",
              "      <td>\\t\\t// False sorts before true.</td>\n",
              "      <td>Negative</td>\n",
              "      <td>73738107</td>\n",
              "      <td>copyright 2020 go author right reserved use so...</td>\n",
              "      <td>[copyright, 2020, go, author, right, reserved,...</td>\n",
              "      <td>sorted fullname return sorted declaration inde...</td>\n",
              "      <td>go</td>\n",
              "    </tr>\n",
              "    <tr>\n",
              "      <th>1</th>\n",
              "      <td>import re\\nimport uuid\\nimport orjson\\nimport ...</td>\n",
              "      <td>st.markdown(\"---\")</td>\n",
              "      <td>if st.session_state[\"mdl_json\"]:</td>\n",
              "      <td>Negative</td>\n",
              "      <td>27996577</td>\n",
              "      <td>import import uuid import orjson import stream...</td>\n",
              "      <td>[import, import, uuid, import, orjson, import,...</td>\n",
              "      <td>deployed model model relationship f current de...</td>\n",
              "      <td>python</td>\n",
              "    </tr>\n",
              "    <tr>\n",
              "      <th>2</th>\n",
              "      <td>package tlsrpt\\nimport (\\n\\t\"fmt\"\\n\\t\"net/url\"...</td>\n",
              "      <td>func (p *parser) wsp() {</td>\n",
              "      <td>//../rfc/8460:374</td>\n",
              "      <td>Negative</td>\n",
              "      <td>33279091</td>\n",
              "      <td>package tlsrpt import fmt string extension add...</td>\n",
              "      <td>[package, tlsrpt, import, fmt, string, extensi...</td>\n",
              "      <td>z b b z b 0 b 9 0 b b b func p parser xvalue s...</td>\n",
              "      <td>go</td>\n",
              "    </tr>\n",
              "    <tr>\n",
              "      <th>3</th>\n",
              "      <td>import { describe, expect, test } from '@jest/...</td>\n",
              "      <td>expect(() =&gt; (rect = new class_test.Rect()...</td>\n",
              "      <td>expect(() =&gt; (rect = new class_test.Rectan...</td>\n",
              "      <td>Negative</td>\n",
              "      <td>61860040</td>\n",
              "      <td>import describe expect test const require cons...</td>\n",
              "      <td>[import, describe, expect, test, const, requir...</td>\n",
              "      <td>adder null expect adder new expect 10 expect 2...</td>\n",
              "      <td>go</td>\n",
              "    </tr>\n",
              "    <tr>\n",
              "      <th>4</th>\n",
              "      <td>import type {\\n  DefaultError,\\n  Enabled,\\n  ...</td>\n",
              "      <td>* Include or exclude stale queries</td>\n",
              "      <td>* Include queries matching this mutation key</td>\n",
              "      <td>Negative</td>\n",
              "      <td>42837523</td>\n",
              "      <td>import type defaulterror enabled fetchstatus m...</td>\n",
              "      <td>[import, type, defaulterror, enabled, fetchsta...</td>\n",
              "      <td>defaulterror enabled fetchstatus mutationkey m...</td>\n",
              "      <td>c</td>\n",
              "    </tr>\n",
              "    <tr>\n",
              "      <th>...</th>\n",
              "      <td>...</td>\n",
              "      <td>...</td>\n",
              "      <td>...</td>\n",
              "      <td>...</td>\n",
              "      <td>...</td>\n",
              "      <td>...</td>\n",
              "      <td>...</td>\n",
              "      <td>...</td>\n",
              "      <td>...</td>\n",
              "    </tr>\n",
              "    <tr>\n",
              "      <th>245</th>\n",
              "      <td>// Copyright 2019 The Go Authors. All rights r...</td>\n",
              "      <td>\\tif mi.unknownPtrKind {</td>\n",
              "      <td>\\tif mi.unknownPtrKind {</td>\n",
              "      <td>Positive</td>\n",
              "      <td>54068973</td>\n",
              "      <td>copyright 2019 go author right reserved use so...</td>\n",
              "      <td>[copyright, 2019, go, author, right, reserved,...</td>\n",
              "      <td>return fi fj needsinitcheck nil nil nil nil ni...</td>\n",
              "      <td>go</td>\n",
              "    </tr>\n",
              "    <tr>\n",
              "      <th>246</th>\n",
              "      <td>import React, { useState, useEffect, useRef } ...</td>\n",
              "      <td>columns: any[];</td>\n",
              "      <td>params: any;</td>\n",
              "      <td>Negative</td>\n",
              "      <td>5072260</td>\n",
              "      <td>import react usestate useeffect useref import ...</td>\n",
              "      <td>[import, react, usestate, useeffect, useref, i...</td>\n",
              "      <td>import splitpane import pane import usemodel i...</td>\n",
              "      <td>type</td>\n",
              "    </tr>\n",
              "    <tr>\n",
              "      <th>247</th>\n",
              "      <td>import { test, expect } from '@playwright/test...</td>\n",
              "      <td>await modelingHelper.executeRelationshipCR...</td>\n",
              "      <td>await modelingHelper.executeRelationshipCR...</td>\n",
              "      <td>Positive</td>\n",
              "      <td>26431481</td>\n",
              "      <td>import test expect import helper import homehe...</td>\n",
              "      <td>[import, test, expect, import, helper, import,...</td>\n",
              "      <td>sale value quarter year test crud successfully...</td>\n",
              "      <td>go</td>\n",
              "    </tr>\n",
              "    <tr>\n",
              "      <th>248</th>\n",
              "      <td>package com.tencent.supersonic.chat.server.per...</td>\n",
              "      <td>.collect(Collectors.to...</td>\n",
              "      <td>.collect(Collectors.toLi...</td>\n",
              "      <td>Negative</td>\n",
              "      <td>82395658</td>\n",
              "      <td>package import import import import import imp...</td>\n",
              "      <td>[package, import, import, import, import, impo...</td>\n",
              "      <td>import repository primary slf4j public class c...</td>\n",
              "      <td>type</td>\n",
              "    </tr>\n",
              "    <tr>\n",
              "      <th>249</th>\n",
              "      <td>import { Knex } from 'knex';\\nimport { camelCa...</td>\n",
              "      <td>.insert(this.transformToDBData(data))</td>\n",
              "      <td>.insert(this.transformToDBData(data))</td>\n",
              "      <td>Negative</td>\n",
              "      <td>7614822</td>\n",
              "      <td>import knex import camelcase isplainobject map...</td>\n",
              "      <td>[import, knex, import, camelcase, isplainobjec...</td>\n",
              "      <td>queryoptions iqueryoptions const executer quer...</td>\n",
              "      <td>type</td>\n",
              "    </tr>\n",
              "  </tbody>\n",
              "</table>\n",
              "<p>250 rows × 9 columns</p>\n",
              "</div>"
            ],
            "text/plain": [
              "                                                prompt  \\\n",
              "0    // Copyright 2020 The Go Authors. All rights r...   \n",
              "1    import re\\nimport uuid\\nimport orjson\\nimport ...   \n",
              "2    package tlsrpt\\nimport (\\n\\t\"fmt\"\\n\\t\"net/url\"...   \n",
              "3    import { describe, expect, test } from '@jest/...   \n",
              "4    import type {\\n  DefaultError,\\n  Enabled,\\n  ...   \n",
              "..                                                 ...   \n",
              "245  // Copyright 2019 The Go Authors. All rights r...   \n",
              "246  import React, { useState, useEffect, useRef } ...   \n",
              "247  import { test, expect } from '@playwright/test...   \n",
              "248  package com.tencent.supersonic.chat.server.per...   \n",
              "249  import { Knex } from 'knex';\\nimport { camelCa...   \n",
              "\n",
              "                                    canonical_solution  \\\n",
              "0                    \\t\\tswitch x.Interface().(type) {   \n",
              "1                                   st.markdown(\"---\")   \n",
              "2                             func (p *parser) wsp() {   \n",
              "3        expect(() => (rect = new class_test.Rect()...   \n",
              "4                   * Include or exclude stale queries   \n",
              "..                                                 ...   \n",
              "245                           \\tif mi.unknownPtrKind {   \n",
              "246                                    columns: any[];   \n",
              "247      await modelingHelper.executeRelationshipCR...   \n",
              "248                          .collect(Collectors.to...   \n",
              "249              .insert(this.transformToDBData(data))   \n",
              "\n",
              "                                        model_response    target  hash_promt  \\\n",
              "0                      \\t\\t// False sorts before true.  Negative    73738107   \n",
              "1                     if st.session_state[\"mdl_json\"]:  Negative    27996577   \n",
              "2                                    //../rfc/8460:374  Negative    33279091   \n",
              "3        expect(() => (rect = new class_test.Rectan...  Negative    61860040   \n",
              "4         * Include queries matching this mutation key  Negative    42837523   \n",
              "..                                                 ...       ...         ...   \n",
              "245                           \\tif mi.unknownPtrKind {  Positive    54068973   \n",
              "246                                       params: any;  Negative     5072260   \n",
              "247      await modelingHelper.executeRelationshipCR...  Positive    26431481   \n",
              "248                        .collect(Collectors.toLi...  Negative    82395658   \n",
              "249              .insert(this.transformToDBData(data))  Negative     7614822   \n",
              "\n",
              "                                               promptz  \\\n",
              "0    copyright 2020 go author right reserved use so...   \n",
              "1    import import uuid import orjson import stream...   \n",
              "2    package tlsrpt import fmt string extension add...   \n",
              "3    import describe expect test const require cons...   \n",
              "4    import type defaulterror enabled fetchstatus m...   \n",
              "..                                                 ...   \n",
              "245  copyright 2019 go author right reserved use so...   \n",
              "246  import react usestate useeffect useref import ...   \n",
              "247  import test expect import helper import homehe...   \n",
              "248  package import import import import import imp...   \n",
              "249  import knex import camelcase isplainobject map...   \n",
              "\n",
              "                                          prompt_lists  \\\n",
              "0    [copyright, 2020, go, author, right, reserved,...   \n",
              "1    [import, import, uuid, import, orjson, import,...   \n",
              "2    [package, tlsrpt, import, fmt, string, extensi...   \n",
              "3    [import, describe, expect, test, const, requir...   \n",
              "4    [import, type, defaulterror, enabled, fetchsta...   \n",
              "..                                                 ...   \n",
              "245  [copyright, 2019, go, author, right, reserved,...   \n",
              "246  [import, react, usestate, useeffect, useref, i...   \n",
              "247  [import, test, expect, import, helper, import,...   \n",
              "248  [package, import, import, import, import, impo...   \n",
              "249  [import, knex, import, camelcase, isplainobjec...   \n",
              "\n",
              "                                           prompt_last language  \n",
              "0    sorted fullname return sorted declaration inde...       go  \n",
              "1    deployed model model relationship f current de...   python  \n",
              "2    z b b z b 0 b 9 0 b b b func p parser xvalue s...       go  \n",
              "3    adder null expect adder new expect 10 expect 2...       go  \n",
              "4    defaulterror enabled fetchstatus mutationkey m...        c  \n",
              "..                                                 ...      ...  \n",
              "245  return fi fj needsinitcheck nil nil nil nil ni...       go  \n",
              "246  import splitpane import pane import usemodel i...     type  \n",
              "247  sale value quarter year test crud successfully...       go  \n",
              "248  import repository primary slf4j public class c...     type  \n",
              "249  queryoptions iqueryoptions const executer quer...     type  \n",
              "\n",
              "[250 rows x 9 columns]"
            ]
          },
          "execution_count": 21,
          "metadata": {},
          "output_type": "execute_result"
        }
      ],
      "source": [
        "dataset.head(250)"
      ]
    },
    {
      "cell_type": "code",
      "execution_count": 22,
      "metadata": {
        "colab": {
          "base_uri": "https://localhost:8080/"
        },
        "id": "z0ZmdN4JkSfB",
        "outputId": "1d71afb8-e9ec-46d8-fa69-7eb579819ec9"
      },
      "outputs": [
        {
          "data": {
            "text/plain": [
              "language\n",
              "go        2162\n",
              "type      2069\n",
              "c          902\n",
              "python     846\n",
              "java       683\n",
              "Name: count, dtype: int64"
            ]
          },
          "execution_count": 22,
          "metadata": {},
          "output_type": "execute_result"
        }
      ],
      "source": [
        "dataset['language'].value_counts()"
      ]
    },
    {
      "cell_type": "markdown",
      "metadata": {
        "id": "Ps8o-oGr8GV5"
      },
      "source": [
        "# Новый раздел"
      ]
    },
    {
      "cell_type": "code",
      "execution_count": 23,
      "metadata": {
        "cellView": "form",
        "colab": {
          "base_uri": "https://localhost:8080/",
          "height": 0
        },
        "id": "ypYDY8QqWqZw",
        "outputId": "4a1b3e73-45e6-436b-fa5a-00635601ac6f"
      },
      "outputs": [
        {
          "data": {
            "image/png": "[encoded data removed]",
            "text/plain": [
              "<Figure size 640x480 with 1 Axes>"
            ]
          },
          "metadata": {},
          "output_type": "display_data"
        }
      ],
      "source": [
        "# @title language\n",
        "\n",
        "from matplotlib import pyplot as plt\n",
        "import seaborn as sns\n",
        "dataset.groupby('language').size().plot(kind='barh', color=sns.palettes.mpl_palette('Dark2'))\n",
        "plt.gca().spines[['top', 'right',]].set_visible(False)"
      ]
    },
    {
      "cell_type": "code",
      "execution_count": 24,
      "metadata": {
        "cellView": "form",
        "colab": {
          "base_uri": "https://localhost:8080/",
          "height": 0
        },
        "id": "lxLdNnTSWW6O",
        "outputId": "717277e6-47bf-4653-b61f-ed86d92fd476"
      },
      "outputs": [
        {
          "data": {
            "image/png": "[encoded data removed]",
            "text/plain": [
              "<Figure size 800x800 with 2 Axes>"
            ]
          },
          "metadata": {},
          "output_type": "display_data"
        }
      ],
      "source": [
        "# @title target vs language\n",
        "\n",
        "from matplotlib import pyplot as plt\n",
        "import seaborn as sns\n",
        "import pandas as pd\n",
        "plt.subplots(figsize=(8, 8))\n",
        "df_2dhist = pd.DataFrame({\n",
        "    x_label: grp['language'].value_counts()\n",
        "    for x_label, grp in dataset.groupby('target')\n",
        "})\n",
        "sns.heatmap(df_2dhist, cmap='viridis')\n",
        "plt.xlabel('target')\n",
        "_ = plt.ylabel('language')"
      ]
    },
    {
      "cell_type": "code",
      "execution_count": null,
      "metadata": {
        "id": "JXEhOOrE_DyT"
      },
      "outputs": [],
      "source": []
    },
    {
      "cell_type": "markdown",
      "metadata": {
        "id": "-QQnYr9tFe7b"
      },
      "source": [
        "# Word2Vec CBOW"
      ]
    },
    {
      "cell_type": "code",
      "execution_count": 25,
      "metadata": {
        "colab": {
          "base_uri": "https://localhost:8080/",
          "height": 356
        },
        "id": "r3Vjre31FnZW",
        "outputId": "19a0dc15-8729-42db-c514-a4a7fc63ed82"
      },
      "outputs": [],
      "source": [
        "from gensim.models import Word2Vec\n",
        "import multiprocessing\n",
        "import logging\n",
        "\n",
        "\n",
        "model = Word2Vec(dataset['prompt_lists'], vector_size=100, window=5, min_count=1, workers=4)\n",
        "\n",
        "cores = multiprocessing.cpu_count()"
      ]
    },
    {
      "cell_type": "code",
      "execution_count": 26,
      "metadata": {
        "id": "5-dDdqLyBCDt"
      },
      "outputs": [],
      "source": [
        "nlp = spacy.load('en_core_web_sm', disable=['ner', 'parser']) # disabling Named Entity Recognition for speed\n",
        "\n",
        "def cleaning(doc):\n",
        "    # Lemmatizes and removes stopwords\n",
        "    # doc needs to be a spacy Doc\n",
        "    #  object\n",
        "    txt = [token.lemma_ for token in doc if not token.is_stop]\n",
        "    # Word2Vec uses context words to learn the vector representation of a target word,\n",
        "    # if a sentence is only one or two words long,\n",
        "    # the benefit for the training is very small\n",
        "    if len(txt) > 2:\n",
        "        return ' '.join(txt)"
      ]
    },
    {
      "cell_type": "code",
      "execution_count": 27,
      "metadata": {
        "id": "5QWaZtkgBC2t"
      },
      "outputs": [],
      "source": [
        "brief_cleaning = (re.sub(\"[^A-Za-z']+\", ' ', str(row)).lower() for row in dataset['prompt'][:750])"
      ]
    },
    {
      "cell_type": "code",
      "execution_count": 28,
      "metadata": {
        "id": "E9AiHnFvAR-t"
      },
      "outputs": [
        {
          "name": "stdout",
          "output_type": "stream",
          "text": [
            "Time to clean up everything: 0.0 mins\n"
          ]
        }
      ],
      "source": [
        "t = time()\n",
        "\n",
        "#txt = [cleaning(doc) for doc in nlp.pipe(brief_cleaning, batch_size=5000, n_process=25)]\n",
        "\n",
        "print('Time to clean up everything: {} mins'.format(round((time() - t) / 60, 2)))\n"
      ]
    },
    {
      "cell_type": "code",
      "execution_count": 29,
      "metadata": {
        "id": "xiq7pf-HBIGv"
      },
      "outputs": [
        {
          "data": {
            "text/plain": [
              "(6600,)"
            ]
          },
          "execution_count": 29,
          "metadata": {},
          "output_type": "execute_result"
        }
      ],
      "source": [
        "df_clean = dataset['promptz'] #pd.DataFrame({'clean': txt}) \n",
        "df_clean = df_clean.dropna().drop_duplicates()\n",
        "df_clean.shape"
      ]
    },
    {
      "cell_type": "code",
      "execution_count": 30,
      "metadata": {},
      "outputs": [],
      "source": [
        "from gensim.models.phrases import Phrases, Phraser"
      ]
    },
    {
      "cell_type": "code",
      "execution_count": 31,
      "metadata": {},
      "outputs": [],
      "source": [
        "sent = [row.split() for row in df_clean]"
      ]
    },
    {
      "cell_type": "code",
      "execution_count": 32,
      "metadata": {},
      "outputs": [],
      "source": [
        "phrases = Phrases(sent, min_count=30, progress_per=10000)"
      ]
    },
    {
      "cell_type": "code",
      "execution_count": 33,
      "metadata": {},
      "outputs": [],
      "source": [
        "bigram = Phraser(phrases)\n",
        "sentences = bigram[sent]"
      ]
    },
    {
      "cell_type": "code",
      "execution_count": 34,
      "metadata": {},
      "outputs": [
        {
          "data": {
            "text/plain": [
              "31310"
            ]
          },
          "execution_count": 34,
          "metadata": {},
          "output_type": "execute_result"
        }
      ],
      "source": [
        "word_freq = defaultdict(int)\n",
        "for sent in sentences:\n",
        "    for i in sent:\n",
        "        word_freq[i] += 1\n",
        "len(word_freq)"
      ]
    },
    {
      "cell_type": "code",
      "execution_count": 35,
      "metadata": {},
      "outputs": [
        {
          "data": {
            "text/plain": [
              "['return', 'import', 'string', 'const', 'err', 'nil', '0', 'func', 'type', '1']"
            ]
          },
          "execution_count": 35,
          "metadata": {},
          "output_type": "execute_result"
        }
      ],
      "source": [
        "sorted(word_freq, key=word_freq.get, reverse=True)[:10]"
      ]
    },
    {
      "cell_type": "code",
      "execution_count": 84,
      "metadata": {},
      "outputs": [],
      "source": [
        "cores = multiprocessing.cpu_count()\n",
        "w2v_model = Word2Vec(min_count=20, window=5, sg=0, vector_size=300, sample=6e-5, alpha=0.03, min_alpha=0.0007, negative=20, workers=15)"
      ]
    },
    {
      "cell_type": "code",
      "execution_count": 85,
      "metadata": {},
      "outputs": [
        {
          "name": "stdout",
          "output_type": "stream",
          "text": [
            "Time to build vocab: 0.0 mins\n"
          ]
        }
      ],
      "source": [
        "t = time()\n",
        "\n",
        "w2v_model.build_vocab(sentences, progress_per=10000)\n",
        "\n",
        "print('Time to build vocab: {} mins'.format(round((time() - t) / 60, 2)))"
      ]
    },
    {
      "cell_type": "code",
      "execution_count": 86,
      "metadata": {},
      "outputs": [
        {
          "name": "stdout",
          "output_type": "stream",
          "text": [
            "Time to train the model: 0.09 mins\n"
          ]
        }
      ],
      "source": [
        "t = time()\n",
        "\n",
        "w2v_model.train(sentences, total_examples=w2v_model.corpus_count, epochs=30, report_delay=1)\n",
        "\n",
        "print('Time to train the model: {} mins'.format(round((time() - t) / 60, 2)))"
      ]
    },
    {
      "cell_type": "code",
      "execution_count": 87,
      "metadata": {},
      "outputs": [
        {
          "name": "stderr",
          "output_type": "stream",
          "text": [
            "/tmp/ipykernel_378911/2897808894.py:1: DeprecationWarning: Call to deprecated `init_sims` (Gensim 4.0.0 implemented internal optimizations that make calls to init_sims() unnecessary. init_sims() is now obsoleted and will be completely removed in future versions. See https://github.com/RaRe-Technologies/gensim/wiki/Migrating-from-Gensim-3.x-to-4).\n",
            "  w2v_model.init_sims(replace=True)\n"
          ]
        }
      ],
      "source": [
        "w2v_model.init_sims(replace=True)\n"
      ]
    },
    {
      "cell_type": "code",
      "execution_count": 88,
      "metadata": {},
      "outputs": [
        {
          "data": {
            "text/plain": [
              "[('switch_case', 0.38787147402763367),\n",
              " ('else', 0.376088947057724),\n",
              " ('datedate', 0.35895058512687683),\n",
              " ('enginerepository', 0.34356918931007385),\n",
              " ('xt', 0.3386215567588806),\n",
              " ('bool', 0.32319387793540955),\n",
              " ('func_p', 0.32044726610183716),\n",
              " ('agg', 0.31857624650001526),\n",
              " ('msmconfig', 0.3174889087677002),\n",
              " ('dateconf', 0.3161466717720032)]"
            ]
          },
          "execution_count": 88,
          "metadata": {},
          "output_type": "execute_result"
        }
      ],
      "source": [
        "w2v_model.wv.most_similar(positive=[\"return\"])"
      ]
    },
    {
      "cell_type": "code",
      "execution_count": 89,
      "metadata": {},
      "outputs": [],
      "source": [
        "import numpy as np\n",
        "import matplotlib.pyplot as plt\n",
        "%matplotlib inline\n",
        " \n",
        "import seaborn as sns\n",
        "sns.set_style(\"darkgrid\")\n",
        "\n",
        "from sklearn.decomposition import PCA\n",
        "from sklearn.manifold import TSNE\n"
      ]
    },
    {
      "cell_type": "code",
      "execution_count": 90,
      "metadata": {},
      "outputs": [],
      "source": [
        "def tsnescatterplot(model, word, list_names):\n",
        "    \"\"\" Plot in seaborn the results from the t-SNE dimensionality reduction algorithm of the vectors of a query word,\n",
        "    its list of most similar words, and a list of words.\n",
        "    \"\"\"\n",
        "    arrays = np.empty((0, 300), dtype='f')\n",
        "    word_labels = [word]\n",
        "    color_list  = ['red']\n",
        "\n",
        "    # adds the vector of the query word\n",
        "    arrays = np.append(arrays, model.wv.__getitem__([word]), axis=0)\n",
        "    \n",
        "    # gets list of most similar words\n",
        "    close_words = model.wv.most_similar([word])\n",
        "    \n",
        "    # adds the vector for each of the closest words to the array\n",
        "    for wrd_score in close_words:\n",
        "        wrd_vector = model.wv.__getitem__([wrd_score[0]])\n",
        "        word_labels.append(wrd_score[0])\n",
        "        color_list.append('blue')\n",
        "        arrays = np.append(arrays, wrd_vector, axis=0)\n",
        "    \n",
        "    # adds the vector for each of the words from list_names to the array\n",
        "    for wrd in list_names:\n",
        "        wrd_vector = model.wv.__getitem__([wrd])\n",
        "        word_labels.append(wrd)\n",
        "        color_list.append('green')\n",
        "        arrays = np.append(arrays, wrd_vector, axis=0)\n",
        "        \n",
        "    # Reduces the dimensionality from 300 to 50 dimensions with PCA\n",
        "    reduc = PCA(n_components=21).fit_transform(arrays)\n",
        "    \n",
        "    # Finds t-SNE coordinates for 2 dimensions\n",
        "    np.set_printoptions(suppress=True)\n",
        "\n",
        "    Y = TSNE(n_components=2, random_state=0, perplexity=15).fit_transform(reduc)\n",
        "    \n",
        "    # Sets everything up to plot\n",
        "    df = pd.DataFrame({'x': [x for x in Y[:, 0]],\n",
        "                       'y': [y for y in Y[:, 1]],\n",
        "                       'words': word_labels,\n",
        "                       'color': color_list})\n",
        "    \n",
        "    fig, _ = plt.subplots()\n",
        "    fig.set_size_inches(9, 9)\n",
        "    \n",
        "    # Basic plot\n",
        "    p1 = sns.regplot(data=df,\n",
        "                     x=\"x\",\n",
        "                     y=\"y\",\n",
        "                     fit_reg=False,\n",
        "                     marker=\"o\",\n",
        "                     scatter_kws={'s': 40,\n",
        "                                  'facecolors': df['color']\n",
        "                                 }\n",
        "                    )\n",
        "    \n",
        "    # Adds annotations one by one with a loop\n",
        "    for line in range(0, df.shape[0]):\n",
        "         p1.text(df[\"x\"][line],\n",
        "                 df['y'][line],\n",
        "                 '  ' + df[\"words\"][line].title(),\n",
        "                 horizontalalignment='left',\n",
        "                 verticalalignment='bottom', size='medium',\n",
        "                 color=df['color'][line],\n",
        "                 weight='normal'\n",
        "                ).set_size(15)\n",
        "\n",
        "    \n",
        "    plt.xlim(Y[:, 0].min()-50, Y[:, 0].max()+50)\n",
        "    plt.ylim(Y[:, 1].min()-50, Y[:, 1].max()+50)\n",
        "            \n",
        "    plt.title('t-SNE visualization for {}'.format(word.title()))\n",
        "    "
      ]
    },
    {
      "cell_type": "code",
      "execution_count": 114,
      "metadata": {},
      "outputs": [
        {
          "data": {
            "image/png": "[encoded data removed]",
            "text/plain": [
              "<Figure size 900x900 with 1 Axes>"
            ]
          },
          "metadata": {},
          "output_type": "display_data"
        }
      ],
      "source": [
        "tsnescatterplot(w2v_model, \"elif\", [t[0] for t in w2v_model.wv.most_similar(positive=[\"elif\"], topn=20)][10:])\n"
      ]
    },
    {
      "cell_type": "markdown",
      "metadata": {},
      "source": [
        "# try 50 last word\n"
      ]
    },
    {
      "cell_type": "code",
      "execution_count": 92,
      "metadata": {},
      "outputs": [],
      "source": [
        "#dataset.head()"
      ]
    },
    {
      "cell_type": "code",
      "execution_count": 93,
      "metadata": {},
      "outputs": [],
      "source": [
        "\n",
        "\n",
        "dataset['promptz_last'] = dataset['prompt_last'].apply(clean)"
      ]
    },
    {
      "cell_type": "code",
      "execution_count": 94,
      "metadata": {},
      "outputs": [],
      "source": [
        "def corpus(text):\n",
        "    text_list = text.split()\n",
        "    return text_list\n",
        "\n",
        "dataset['prompt_lists_last'] = dataset['promptz_last'].apply(corpus)\n",
        "#dataset.head(10)"
      ]
    },
    {
      "cell_type": "code",
      "execution_count": 95,
      "metadata": {},
      "outputs": [
        {
          "name": "stderr",
          "output_type": "stream",
          "text": [
            "100%|\u001b[32m█████████████████████████████████████████████████████████████████████████████████████████████████████████\u001b[0m| 6662/6662 [00:00<00:00, 198105.99it/s]\u001b[0m\n"
          ]
        },
        {
          "data": {
            "text/plain": [
              "[('return', 9432),\n",
              " ('import', 6967),\n",
              " ('const', 6503),\n",
              " ('string', 6006),\n",
              " ('err', 4893),\n",
              " ('0', 3539),\n",
              " ('nil', 3441),\n",
              " ('1', 2972),\n",
              " ('func', 2588),\n",
              " ('type', 2380)]"
            ]
          },
          "execution_count": 95,
          "metadata": {},
          "output_type": "execute_result"
        }
      ],
      "source": [
        "corpus = []\n",
        "for i in trange(dataset.shape[0], ncols=150, nrows=10, colour='green', smoothing=0.8):\n",
        "    corpus += dataset['prompt_lists_last'][i]\n",
        "len(corpus)\n",
        "\n",
        "mostCommon = Counter(corpus).most_common(10)\n",
        "mostCommon"
      ]
    },
    {
      "cell_type": "code",
      "execution_count": 96,
      "metadata": {},
      "outputs": [
        {
          "data": {
            "image/png": "[encoded data removed]",
            "text/plain": [
              "<Figure size 640x480 with 1 Axes>"
            ]
          },
          "metadata": {},
          "output_type": "display_data"
        }
      ],
      "source": [
        "words = []\n",
        "freq = []\n",
        "for word, count in mostCommon:\n",
        "    words.append(word)\n",
        "    freq.append(count)\n",
        "\n",
        "sns.barplot(x=freq, y=words)\n",
        "plt.title('Top 10 Most Frequently Occuring Words')\n",
        "plt.show()"
      ]
    },
    {
      "cell_type": "code",
      "execution_count": 97,
      "metadata": {},
      "outputs": [],
      "source": [
        "brief_cleaning = (re.sub(\"[^A-Za-z']+\", ' ', str(row)).lower() for row in dataset['prompt_last'])"
      ]
    },
    {
      "cell_type": "code",
      "execution_count": 98,
      "metadata": {},
      "outputs": [],
      "source": [
        "nlp = spacy.load('en_core_web_sm', disable=['ner', 'parser']) # disabling Named Entity Recognition for speed\n",
        "\n",
        "def cleaning(doc):\n",
        "    # Lemmatizes and removes stopwords\n",
        "    # doc needs to be a spacy Doc\n",
        "    #  object\n",
        "    txt = [token.lemma_ for token in doc if not token.is_stop]\n",
        "    # Word2Vec uses context words to learn the vector representation of a target word,\n",
        "    # if a sentence is only one or two words long,\n",
        "    # the benefit for the training is very small\n",
        "    if len(txt) > 2:\n",
        "        return ' '.join(txt)"
      ]
    },
    {
      "cell_type": "code",
      "execution_count": 99,
      "metadata": {},
      "outputs": [
        {
          "name": "stdout",
          "output_type": "stream",
          "text": [
            "Time to clean up everything: 0.0 mins\n"
          ]
        }
      ],
      "source": [
        "t = time()\n",
        "\n",
        "#txt = [cleaning(doc) for doc in nlp.pipe(brief_cleaning, batch_size=5000, n_process=16)]\n",
        "\n",
        "print('Time to clean up everything: {} mins'.format(round((time() - t) / 60, 2)))"
      ]
    },
    {
      "cell_type": "code",
      "execution_count": 100,
      "metadata": {},
      "outputs": [
        {
          "data": {
            "text/plain": [
              "(6594,)"
            ]
          },
          "execution_count": 100,
          "metadata": {},
          "output_type": "execute_result"
        }
      ],
      "source": [
        "df_clean =  dataset['prompt_last']#pd.DataFrame({'clean': txt})\n",
        "df_clean = df_clean.dropna().drop_duplicates()\n",
        "df_clean.shape"
      ]
    },
    {
      "cell_type": "code",
      "execution_count": 101,
      "metadata": {},
      "outputs": [],
      "source": [
        "sent = [row.split() for row in df_clean]"
      ]
    },
    {
      "cell_type": "code",
      "execution_count": 102,
      "metadata": {},
      "outputs": [],
      "source": [
        "phrases = Phrases(sent, min_count=30, progress_per=10000)"
      ]
    },
    {
      "cell_type": "code",
      "execution_count": 103,
      "metadata": {},
      "outputs": [],
      "source": [
        "bigram = Phraser(phrases)\n",
        "sentences = bigram[sent]"
      ]
    },
    {
      "cell_type": "code",
      "execution_count": 104,
      "metadata": {},
      "outputs": [
        {
          "data": {
            "text/plain": [
              "24403"
            ]
          },
          "execution_count": 104,
          "metadata": {},
          "output_type": "execute_result"
        }
      ],
      "source": [
        "word_freq = defaultdict(int)\n",
        "for sent in sentences:\n",
        "    for i in sent:\n",
        "        word_freq[i] += 1\n",
        "len(word_freq)"
      ]
    },
    {
      "cell_type": "code",
      "execution_count": 105,
      "metadata": {},
      "outputs": [
        {
          "data": {
            "text/plain": [
              "['return',\n",
              " 'const',\n",
              " 'string',\n",
              " '0',\n",
              " 'err',\n",
              " '1',\n",
              " 'import',\n",
              " 'error',\n",
              " 'func',\n",
              " 'nil']"
            ]
          },
          "execution_count": 105,
          "metadata": {},
          "output_type": "execute_result"
        }
      ],
      "source": [
        "sorted(word_freq, key=word_freq.get, reverse=True)[:10]"
      ]
    },
    {
      "cell_type": "code",
      "execution_count": 106,
      "metadata": {},
      "outputs": [],
      "source": [
        "w2v_model_1 = Word2Vec(min_count=20, window=2, sample=6e-5, vector_size=300, alpha=0.03, min_alpha=0.0007, negative=20, workers=15)"
      ]
    },
    {
      "cell_type": "code",
      "execution_count": 107,
      "metadata": {},
      "outputs": [
        {
          "name": "stdout",
          "output_type": "stream",
          "text": [
            "Time to build vocab: 0.0 mins\n"
          ]
        }
      ],
      "source": [
        "t = time()\n",
        "\n",
        "w2v_model_1.build_vocab(sentences, progress_per=10000)\n",
        "\n",
        "print('Time to build vocab: {} mins'.format(round((time() - t) / 60, 2)))"
      ]
    },
    {
      "cell_type": "code",
      "execution_count": 108,
      "metadata": {},
      "outputs": [
        {
          "name": "stdout",
          "output_type": "stream",
          "text": [
            "Time to train the model: 0.09 mins\n"
          ]
        }
      ],
      "source": [
        "t = time()\n",
        "\n",
        "w2v_model_1.train(sentences, total_examples=w2v_model_1.corpus_count, epochs=30, report_delay=1)\n",
        "\n",
        "print('Time to train the model: {} mins'.format(round((time() - t) / 60, 2)))"
      ]
    },
    {
      "cell_type": "code",
      "execution_count": 109,
      "metadata": {},
      "outputs": [
        {
          "name": "stderr",
          "output_type": "stream",
          "text": [
            "/tmp/ipykernel_378911/3602180844.py:1: DeprecationWarning: Call to deprecated `init_sims` (Gensim 4.0.0 implemented internal optimizations that make calls to init_sims() unnecessary. init_sims() is now obsoleted and will be completely removed in future versions. See https://github.com/RaRe-Technologies/gensim/wiki/Migrating-from-Gensim-3.x-to-4).\n",
            "  w2v_model_1.init_sims(replace=True)\n"
          ]
        }
      ],
      "source": [
        "w2v_model_1.init_sims(replace=True)\n"
      ]
    },
    {
      "cell_type": "code",
      "execution_count": 115,
      "metadata": {},
      "outputs": [
        {
          "data": {
            "image/png": "[encoded data removed]",
            "text/plain": [
              "<Figure size 900x900 with 1 Axes>"
            ]
          },
          "metadata": {},
          "output_type": "display_data"
        }
      ],
      "source": [
        "tsnescatterplot(w2v_model_1, \"elif\", [t[0] for t in w2v_model_1.wv.most_similar(positive=[\"elif\"], topn=20)][10:])\n"
      ]
    },
    {
      "cell_type": "code",
      "execution_count": 110,
      "metadata": {},
      "outputs": [
        {
          "data": {
            "text/plain": [
              "[('switch_case', 0.444305956363678),\n",
              " ('else', 0.42167460918426514),\n",
              " ('error', 0.41076499223709106),\n",
              " ('false', 0.39784276485443115),\n",
              " ('val', 0.3676660656929016),\n",
              " ('enginerepository', 0.35741448402404785),\n",
              " ('err_nil', 0.3500525653362274),\n",
              " ('0', 0.3497158885002136),\n",
              " ('err', 0.34894874691963196),\n",
              " ('true', 0.34889519214630127)]"
            ]
          },
          "execution_count": 110,
          "metadata": {},
          "output_type": "execute_result"
        }
      ],
      "source": [
        "w2v_model_1.wv.most_similar(positive=[\"return\"])"
      ]
    },
    {
      "cell_type": "code",
      "execution_count": 111,
      "metadata": {},
      "outputs": [
        {
          "data": {
            "text/plain": [
              "[('switch_case', 0.38787147402763367),\n",
              " ('else', 0.376088947057724),\n",
              " ('datedate', 0.35895058512687683),\n",
              " ('enginerepository', 0.34356918931007385),\n",
              " ('xt', 0.3386215567588806),\n",
              " ('bool', 0.32319387793540955),\n",
              " ('func_p', 0.32044726610183716),\n",
              " ('agg', 0.31857624650001526),\n",
              " ('msmconfig', 0.3174889087677002),\n",
              " ('dateconf', 0.3161466717720032)]"
            ]
          },
          "execution_count": 111,
          "metadata": {},
          "output_type": "execute_result"
        }
      ],
      "source": [
        "w2v_model.wv.most_similar(positive=[\"return\"])"
      ]
    }
  ],
  "metadata": {
    "colab": {
      "collapsed_sections": [
        "Ps8o-oGr8GV5"
      ],
      "provenance": []
    },
    "kernelspec": {
      "display_name": "Python 3",
      "name": "python3"
    },
    "language_info": {
      "codemirror_mode": {
        "name": "ipython",
        "version": 3
      },
      "file_extension": ".py",
      "mimetype": "text/x-python",
      "name": "python",
      "nbconvert_exporter": "python",
      "pygments_lexer": "ipython3",
      "version": "3.10.12"
    }
  },
  "nbformat": 4,
  "nbformat_minor": 0
}
